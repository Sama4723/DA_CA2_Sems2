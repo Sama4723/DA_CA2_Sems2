{
 "cells": [
  {
   "cell_type": "markdown",
   "id": "b778ad06-b4f3-40df-a707-e2cca29df478",
   "metadata": {},
   "source": [
    "### Import necessary modules"
   ]
  },
  {
   "cell_type": "code",
   "execution_count": 1,
   "id": "80dd25b9-4d2d-4d13-960c-045deca69827",
   "metadata": {
    "tags": []
   },
   "outputs": [],
   "source": [
    "import pandas as pd\n",
    "import numpy as np\n",
    "import matplotlib.pyplot as plt"
   ]
  },
  {
   "cell_type": "code",
   "execution_count": 2,
   "id": "2952d745-372f-4469-b6ed-6732e6388e0a",
   "metadata": {
    "tags": []
   },
   "outputs": [],
   "source": [
    "df = pd.read_csv('./tweets_sent_new_df.csv', parse_dates=['datetime_new'], index_col='ids')"
   ]
  },
  {
   "cell_type": "code",
   "execution_count": 3,
   "id": "314e4a6f-dfe2-4e93-9007-81b5de9ab409",
   "metadata": {
    "tags": []
   },
   "outputs": [
    {
     "data": {
      "text/html": [
       "<div>\n",
       "<style scoped>\n",
       "    .dataframe tbody tr th:only-of-type {\n",
       "        vertical-align: middle;\n",
       "    }\n",
       "\n",
       "    .dataframe tbody tr th {\n",
       "        vertical-align: top;\n",
       "    }\n",
       "\n",
       "    .dataframe thead th {\n",
       "        text-align: right;\n",
       "    }\n",
       "</style>\n",
       "<table border=\"1\" class=\"dataframe\">\n",
       "  <thead>\n",
       "    <tr style=\"text-align: right;\">\n",
       "      <th></th>\n",
       "      <th>score</th>\n",
       "    </tr>\n",
       "  </thead>\n",
       "  <tbody>\n",
       "    <tr>\n",
       "      <th>count</th>\n",
       "      <td>715978.000000</td>\n",
       "    </tr>\n",
       "    <tr>\n",
       "      <th>mean</th>\n",
       "      <td>0.906193</td>\n",
       "    </tr>\n",
       "    <tr>\n",
       "      <th>std</th>\n",
       "      <td>3.164574</td>\n",
       "    </tr>\n",
       "    <tr>\n",
       "      <th>min</th>\n",
       "      <td>-104.000000</td>\n",
       "    </tr>\n",
       "    <tr>\n",
       "      <th>25%</th>\n",
       "      <td>-2.000000</td>\n",
       "    </tr>\n",
       "    <tr>\n",
       "      <th>50%</th>\n",
       "      <td>1.000000</td>\n",
       "    </tr>\n",
       "    <tr>\n",
       "      <th>75%</th>\n",
       "      <td>3.000000</td>\n",
       "    </tr>\n",
       "    <tr>\n",
       "      <th>max</th>\n",
       "      <td>32.000000</td>\n",
       "    </tr>\n",
       "  </tbody>\n",
       "</table>\n",
       "</div>"
      ],
      "text/plain": [
       "               score\n",
       "count  715978.000000\n",
       "mean        0.906193\n",
       "std         3.164574\n",
       "min      -104.000000\n",
       "25%        -2.000000\n",
       "50%         1.000000\n",
       "75%         3.000000\n",
       "max        32.000000"
      ]
     },
     "execution_count": 3,
     "metadata": {},
     "output_type": "execute_result"
    }
   ],
   "source": [
    "df.describe()"
   ]
  },
  {
   "cell_type": "code",
   "execution_count": 4,
   "id": "88222e26-1e56-4164-b75f-2eaf7a53d857",
   "metadata": {},
   "outputs": [
    {
     "name": "stdout",
     "output_type": "stream",
     "text": [
      "<class 'pandas.core.frame.DataFrame'>\n",
      "Index: 715978 entries, nan to 2072532046.0\n",
      "Data columns (total 3 columns):\n",
      " #   Column        Non-Null Count   Dtype                    \n",
      "---  ------        --------------   -----                    \n",
      " 0   datetime_new  715978 non-null  datetime64[ns, UTC+01:00]\n",
      " 1   score         715978 non-null  int64                    \n",
      " 2   sentiment     715978 non-null  object                   \n",
      "dtypes: datetime64[ns, UTC+01:00](1), int64(1), object(1)\n",
      "memory usage: 21.8+ MB\n"
     ]
    }
   ],
   "source": [
    "df.info()"
   ]
  },
  {
   "cell_type": "code",
   "execution_count": null,
   "id": "c954c902-2e6c-4ab5-b7b5-c23d2f6eaeb3",
   "metadata": {},
   "outputs": [],
   "source": []
  },
  {
   "cell_type": "markdown",
   "id": "2bfc39c2-d6d1-47e9-b2d1-503edf7a958f",
   "metadata": {},
   "source": [
    "#### Check the values of the sentiment column"
   ]
  },
  {
   "cell_type": "code",
   "execution_count": 5,
   "id": "dbf19b5f-b893-473e-aab6-df881bc63da4",
   "metadata": {},
   "outputs": [
    {
     "data": {
      "text/plain": [
       "array(['positive', 'negative', 'neutral'], dtype=object)"
      ]
     },
     "execution_count": 5,
     "metadata": {},
     "output_type": "execute_result"
    }
   ],
   "source": [
    "df.sentiment.unique()"
   ]
  },
  {
   "cell_type": "markdown",
   "id": "8c373732-8c8c-4ce3-8fd0-f8b8b81a1bd5",
   "metadata": {},
   "source": [
    "#### Only the sentiment column will be used after converting it to numerical values, and score can be discarded"
   ]
  },
  {
   "cell_type": "code",
   "execution_count": 7,
   "id": "856cba84-577e-44bb-8357-6b9a67cc194b",
   "metadata": {},
   "outputs": [],
   "source": [
    "df = df.sort_values(by='datetime_new')\n",
    "df = df.drop(['score'], axis=1)\n",
    "df.sentiment = df.sentiment.replace({'positive': 1, 'negative': -1, 'neutral':0})"
   ]
  },
  {
   "cell_type": "code",
   "execution_count": 8,
   "id": "7cd95c7f-4e92-4d4f-bbe2-2c70b49e577f",
   "metadata": {},
   "outputs": [
    {
     "data": {
      "text/html": [
       "<div>\n",
       "<style scoped>\n",
       "    .dataframe tbody tr th:only-of-type {\n",
       "        vertical-align: middle;\n",
       "    }\n",
       "\n",
       "    .dataframe tbody tr th {\n",
       "        vertical-align: top;\n",
       "    }\n",
       "\n",
       "    .dataframe thead th {\n",
       "        text-align: right;\n",
       "    }\n",
       "</style>\n",
       "<table border=\"1\" class=\"dataframe\">\n",
       "  <thead>\n",
       "    <tr style=\"text-align: right;\">\n",
       "      <th></th>\n",
       "      <th>datetime_new</th>\n",
       "      <th>sentiment</th>\n",
       "    </tr>\n",
       "    <tr>\n",
       "      <th>ids</th>\n",
       "      <th></th>\n",
       "      <th></th>\n",
       "    </tr>\n",
       "  </thead>\n",
       "  <tbody>\n",
       "    <tr>\n",
       "      <th>1.467811e+09</th>\n",
       "      <td>2009-04-06 22:19:49+01:00</td>\n",
       "      <td>-1</td>\n",
       "    </tr>\n",
       "    <tr>\n",
       "      <th>1.467811e+09</th>\n",
       "      <td>2009-04-06 22:19:53+01:00</td>\n",
       "      <td>1</td>\n",
       "    </tr>\n",
       "    <tr>\n",
       "      <th>1.467811e+09</th>\n",
       "      <td>2009-04-06 22:19:57+01:00</td>\n",
       "      <td>-1</td>\n",
       "    </tr>\n",
       "    <tr>\n",
       "      <th>1.467811e+09</th>\n",
       "      <td>2009-04-06 22:19:57+01:00</td>\n",
       "      <td>-1</td>\n",
       "    </tr>\n",
       "    <tr>\n",
       "      <th>1.467812e+09</th>\n",
       "      <td>2009-04-06 22:20:03+01:00</td>\n",
       "      <td>-1</td>\n",
       "    </tr>\n",
       "  </tbody>\n",
       "</table>\n",
       "</div>"
      ],
      "text/plain": [
       "                          datetime_new  sentiment\n",
       "ids                                              \n",
       "1.467811e+09 2009-04-06 22:19:49+01:00         -1\n",
       "1.467811e+09 2009-04-06 22:19:53+01:00          1\n",
       "1.467811e+09 2009-04-06 22:19:57+01:00         -1\n",
       "1.467811e+09 2009-04-06 22:19:57+01:00         -1\n",
       "1.467812e+09 2009-04-06 22:20:03+01:00         -1"
      ]
     },
     "execution_count": 8,
     "metadata": {},
     "output_type": "execute_result"
    }
   ],
   "source": [
    "df.head()"
   ]
  },
  {
   "cell_type": "markdown",
   "id": "c7a36d5e-a11f-4b9d-9563-b232c0a6f5b7",
   "metadata": {},
   "source": [
    "#### Check the first and last dates where there are tweets"
   ]
  },
  {
   "cell_type": "code",
   "execution_count": 9,
   "id": "86878ae0-03cf-4909-af89-e1a8f0a28a65",
   "metadata": {},
   "outputs": [
    {
     "name": "stdout",
     "output_type": "stream",
     "text": [
      "Min date: 2009-04-06\n",
      "Max date: 2009-06-25\n"
     ]
    }
   ],
   "source": [
    "print('Min date: %s' % df['datetime_new'].min().date())\n",
    "print('Max date: %s' % df['datetime_new'].max().date())"
   ]
  },
  {
   "cell_type": "markdown",
   "id": "8265c393-c06d-49ae-b8c4-549d2de55a26",
   "metadata": {},
   "source": [
    "#### Sentiment for all tweets will be aggregated daily for the dates where there are tweets"
   ]
  },
  {
   "cell_type": "code",
   "execution_count": 10,
   "id": "5a053dc5-e667-4f47-ae9b-dfbf38946206",
   "metadata": {},
   "outputs": [
    {
     "data": {
      "text/plain": [
       "datetime_new\n",
       "2009-04-06     331\n",
       "2009-04-07    2233\n",
       "2009-04-17     512\n",
       "2009-04-18    3413\n",
       "2009-04-19    4222\n",
       "2009-04-20    2550\n",
       "2009-04-21    1210\n",
       "2009-05-01    1082\n",
       "2009-05-02    3933\n",
       "2009-05-03    4933\n",
       "Name: sentiment, dtype: int64"
      ]
     },
     "execution_count": 10,
     "metadata": {},
     "output_type": "execute_result"
    }
   ],
   "source": [
    "daily_series = df.groupby(df['datetime_new'].dt.date)['sentiment'].sum()\n",
    "daily_series.head(10)"
   ]
  },
  {
   "cell_type": "markdown",
   "id": "b69dc483-c4c5-4988-8d7f-4e2de149c306",
   "metadata": {},
   "source": [
    "#### Check the span of the entire period between the first and last dates where there are tweets"
   ]
  },
  {
   "cell_type": "code",
   "execution_count": 11,
   "id": "2538688a-442a-4e24-8808-cab5bb0e62f1",
   "metadata": {},
   "outputs": [
    {
     "data": {
      "text/plain": [
       "datetime.timedelta(days=80)"
      ]
     },
     "execution_count": 11,
     "metadata": {},
     "output_type": "execute_result"
    }
   ],
   "source": [
    "daily_series.index.max() - daily_series.index.min()"
   ]
  },
  {
   "cell_type": "markdown",
   "id": "fcd4c24f-9354-4985-99a9-fa3d347930c4",
   "metadata": {},
   "source": [
    "#### Create entries for the dates where there are NO tweets and set their aggregate sentiment value to NaN"
   ]
  },
  {
   "cell_type": "code",
   "execution_count": 12,
   "id": "fa14e494-85ce-4e5d-ae00-c164f0c96854",
   "metadata": {},
   "outputs": [
    {
     "data": {
      "text/plain": [
       "DatetimeIndex(['2009-04-06', '2009-04-07', '2009-04-08', '2009-04-09',\n",
       "               '2009-04-10', '2009-04-11', '2009-04-12', '2009-04-13',\n",
       "               '2009-04-14', '2009-04-15', '2009-04-16', '2009-04-17',\n",
       "               '2009-04-18', '2009-04-19', '2009-04-20', '2009-04-21',\n",
       "               '2009-04-22', '2009-04-23', '2009-04-24', '2009-04-25',\n",
       "               '2009-04-26', '2009-04-27', '2009-04-28', '2009-04-29',\n",
       "               '2009-04-30', '2009-05-01', '2009-05-02', '2009-05-03',\n",
       "               '2009-05-04', '2009-05-05', '2009-05-06', '2009-05-07',\n",
       "               '2009-05-08', '2009-05-09', '2009-05-10', '2009-05-11',\n",
       "               '2009-05-12', '2009-05-13', '2009-05-14', '2009-05-15',\n",
       "               '2009-05-16', '2009-05-17', '2009-05-18', '2009-05-19',\n",
       "               '2009-05-20', '2009-05-21', '2009-05-22', '2009-05-23',\n",
       "               '2009-05-24', '2009-05-25', '2009-05-26', '2009-05-27',\n",
       "               '2009-05-28', '2009-05-29', '2009-05-30', '2009-05-31',\n",
       "               '2009-06-01', '2009-06-02', '2009-06-03', '2009-06-04',\n",
       "               '2009-06-05', '2009-06-06', '2009-06-07', '2009-06-08',\n",
       "               '2009-06-09', '2009-06-10', '2009-06-11', '2009-06-12',\n",
       "               '2009-06-13', '2009-06-14', '2009-06-15', '2009-06-16',\n",
       "               '2009-06-17', '2009-06-18', '2009-06-19', '2009-06-20',\n",
       "               '2009-06-21', '2009-06-22', '2009-06-23', '2009-06-24',\n",
       "               '2009-06-25'],\n",
       "              dtype='datetime64[ns]', freq='D')"
      ]
     },
     "execution_count": 12,
     "metadata": {},
     "output_type": "execute_result"
    }
   ],
   "source": [
    "idx = pd.date_range(daily_series.index.min(), daily_series.index.max())\n",
    "idx"
   ]
  },
  {
   "cell_type": "code",
   "execution_count": 13,
   "id": "0131dffe-df3d-46dc-9261-ed3ebc30e15a",
   "metadata": {
    "tags": []
   },
   "outputs": [
    {
     "name": "stdout",
     "output_type": "stream",
     "text": [
      "2009-04-06     331.0\n",
      "2009-04-07    2233.0\n",
      "2009-04-08       NaN\n",
      "2009-04-09       NaN\n",
      "2009-04-10       NaN\n",
      "               ...  \n",
      "2009-06-21    -824.0\n",
      "2009-06-22    -831.0\n",
      "2009-06-23   -1010.0\n",
      "2009-06-24    -412.0\n",
      "2009-06-25   -1278.0\n",
      "Freq: D, Name: sentiment, Length: 81, dtype: float64\n"
     ]
    }
   ],
   "source": [
    "daily_series = daily_series.reindex(idx)\n",
    "print(daily_series)"
   ]
  },
  {
   "cell_type": "markdown",
   "id": "a7dd87e0-5e07-4ef6-b483-61949132a2e7",
   "metadata": {},
   "source": [
    "#### Plotting the daily aggregates would help to indenify the overall trend"
   ]
  },
  {
   "cell_type": "code",
   "execution_count": 14,
   "id": "4545bc20-b63e-49af-8a16-eb45560af044",
   "metadata": {
    "tags": []
   },
   "outputs": [
    {
     "data": {
      "text/plain": [
       "<Axes: title={'center': 'Overall Daily Sentiment'}>"
      ]
     },
     "execution_count": 14,
     "metadata": {},
     "output_type": "execute_result"
    },
    {
     "data": {
      "image/png": "[encoded data removed]",
      "text/plain": [
       "<Figure size 1500x800 with 1 Axes>"
      ]
     },
     "metadata": {},
     "output_type": "display_data"
    }
   ],
   "source": [
    "daily_series.plot.bar(figsize = (15, 8), title='Overall Daily Sentiment', legend=True)"
   ]
  },
  {
   "cell_type": "markdown",
   "id": "d7db33d1-fbb9-444f-b9e8-0dbb6d33fe18",
   "metadata": {},
   "source": [
    "#### Explore if aggregating every 4 Hours for instance would show significant change in the trends"
   ]
  },
  {
   "cell_type": "code",
   "execution_count": 15,
   "id": "9c0db504-c700-4c7f-aa01-d00e59623de2",
   "metadata": {
    "tags": []
   },
   "outputs": [
    {
     "data": {
      "text/html": [
       "<div>\n",
       "<style scoped>\n",
       "    .dataframe tbody tr th:only-of-type {\n",
       "        vertical-align: middle;\n",
       "    }\n",
       "\n",
       "    .dataframe tbody tr th {\n",
       "        vertical-align: top;\n",
       "    }\n",
       "\n",
       "    .dataframe thead th {\n",
       "        text-align: right;\n",
       "    }\n",
       "</style>\n",
       "<table border=\"1\" class=\"dataframe\">\n",
       "  <thead>\n",
       "    <tr style=\"text-align: right;\">\n",
       "      <th></th>\n",
       "      <th>sentiment</th>\n",
       "    </tr>\n",
       "    <tr>\n",
       "      <th>datetime_new</th>\n",
       "      <th></th>\n",
       "    </tr>\n",
       "  </thead>\n",
       "  <tbody>\n",
       "    <tr>\n",
       "      <th>2009-04-06 20:00:00+01:00</th>\n",
       "      <td>331</td>\n",
       "    </tr>\n",
       "    <tr>\n",
       "      <th>2009-04-07 00:00:00+01:00</th>\n",
       "      <td>1059</td>\n",
       "    </tr>\n",
       "    <tr>\n",
       "      <th>2009-04-07 04:00:00+01:00</th>\n",
       "      <td>996</td>\n",
       "    </tr>\n",
       "    <tr>\n",
       "      <th>2009-04-07 08:00:00+01:00</th>\n",
       "      <td>178</td>\n",
       "    </tr>\n",
       "    <tr>\n",
       "      <th>2009-04-07 12:00:00+01:00</th>\n",
       "      <td>0</td>\n",
       "    </tr>\n",
       "  </tbody>\n",
       "</table>\n",
       "</div>"
      ],
      "text/plain": [
       "                           sentiment\n",
       "datetime_new                        \n",
       "2009-04-06 20:00:00+01:00        331\n",
       "2009-04-07 00:00:00+01:00       1059\n",
       "2009-04-07 04:00:00+01:00        996\n",
       "2009-04-07 08:00:00+01:00        178\n",
       "2009-04-07 12:00:00+01:00          0"
      ]
     },
     "execution_count": 15,
     "metadata": {},
     "output_type": "execute_result"
    }
   ],
   "source": [
    "hourly_df = df.groupby(pd.Grouper(key='datetime_new', freq='4h')).sum() \n",
    "hourly_df.head()"
   ]
  },
  {
   "cell_type": "code",
   "execution_count": 16,
   "id": "2ec0b2f9-421e-484b-ba2b-1840f8cdceee",
   "metadata": {
    "tags": []
   },
   "outputs": [
    {
     "data": {
      "text/plain": [
       "<Axes: title={'center': 'Sentiment Aggregates every 4 Hours'}, xlabel='datetime_new'>"
      ]
     },
     "execution_count": 16,
     "metadata": {},
     "output_type": "execute_result"
    },
    {
     "data": {
      "image/png": "[encoded data removed]",
      "text/plain": [
       "<Figure size 1500x800 with 1 Axes>"
      ]
     },
     "metadata": {},
     "output_type": "display_data"
    }
   ],
   "source": [
    "hourly_df.plot.bar(figsize = (15, 8),title='Sentiment Aggregates every 4 Hours', legend=True)"
   ]
  },
  {
   "cell_type": "markdown",
   "id": "8021194b-cf44-48cb-bd46-a36135c86193",
   "metadata": {},
   "source": [
    "### It looks like hourly aggregates have little significance over daily ones. So daily will be used for further analysis."
   ]
  },
  {
   "cell_type": "code",
   "execution_count": null,
   "id": "7adc64de-5749-4d7e-a904-c36189b1088e",
   "metadata": {},
   "outputs": [],
   "source": []
  }
 ],
 "metadata": {
  "kernelspec": {
   "display_name": "Python 3 (ipykernel)",
   "language": "python",
   "name": "python3"
  },
  "language_info": {
   "codemirror_mode": {
    "name": "ipython",
    "version": 3
   },
   "file_extension": ".py",
   "mimetype": "text/x-python",
   "name": "python",
   "nbconvert_exporter": "python",
   "pygments_lexer": "ipython3",
   "version": "3.11.5"
  }
 },
 "nbformat": 4,
 "nbformat_minor": 5
}
